{
 "cells": [
  {
   "cell_type": "code",
   "execution_count": 28,
   "metadata": {},
   "outputs": [],
   "source": [
    "import numpy as np\n",
    "import matplotlib.pyplot as plt\n",
    "from keras.utils import np_utils\n",
    "from keras.models import Sequential\n",
    "from keras.layers import Dense,Dropout,Activation,Flatten\n",
    "from keras.layers import Conv2D, MaxPooling2D, ZeroPadding2D\n",
    "from keras.preprocessing.image import ImageDataGenerator\n",
    "from keras import optimizers\n",
    "import cv2\n",
    "import os\n",
    "import random"
   ]
  },
  {
   "cell_type": "code",
   "execution_count": 47,
   "metadata": {},
   "outputs": [],
   "source": [
    "train_dir = './dc_2000'\n",
    "X = np.zeros((1600,75,75,3),dtype=np.float32)\n",
    "y = np.zeros((1600,1),dtype=np.int8)\n",
    "val_data = np.zeros((400,75,75,3),dtype=np.float32)\n",
    "val_label = np.zeros((400,1),dtype=np.int8)\n",
    "for i,j in enumerate(os.listdir(train_dir+'/train/cat')):\n",
    "    img = cv2.imread(train_dir+'/train/cat/'+j)\n",
    "    img = cv2.resize(img,(75,75))\n",
    "    if i>=800 :\n",
    "        val_data[i-800] = img/255\n",
    "        val_label[i-800] = 0\n",
    "    else:\n",
    "        X[i] = img/255\n",
    "        y[i] = 0#cat = 0\n",
    "    \n",
    "for i, j in enumerate(os.listdir(train_dir + '/train/dog')):\n",
    "    img = cv2.imread(train_dir + '/train/dog/' + j)\n",
    "    img = cv2.resize(img, (75, 75))\n",
    "    if i>=800 :\n",
    "        val_data[200+i-800] = img/255\n",
    "        val_label[200+i-800] = 1\n",
    "    else:\n",
    "        X[800+i] = img/255\n",
    "        y[800+i] = 1#cat = 0\n",
    "    # cv2.imshow('1',img)\n",
    "    # cv2.waitKey(0)\n",
    "    # cv2.destroyAllWindows()"
   ]
  },
  {
   "cell_type": "code",
   "execution_count": 48,
   "metadata": {},
   "outputs": [],
   "source": [
    "ziplist = [i for i in zip(X, y)]\n",
    "random.shuffle(ziplist)\n",
    "X[:], y[:] = zip(*ziplist)\n",
    "zip2list = [i for i in zip(val_data,val_label)]\n",
    "random.shuffle(zip2list)\n",
    "val_data[:], val_label[:] = zip(*zip2list)"
   ]
  },
  {
   "cell_type": "code",
   "execution_count": 44,
   "metadata": {},
   "outputs": [
    {
     "name": "stdout",
     "output_type": "stream",
     "text": [
      "Model: \"sequential_5\"\n",
      "_________________________________________________________________\n",
      "Layer (type)                 Output Shape              Param #   \n",
      "=================================================================\n",
      "conv2d_16 (Conv2D)           (None, 73, 73, 32)        896       \n",
      "_________________________________________________________________\n",
      "max_pooling2d_13 (MaxPooling (None, 36, 36, 32)        0         \n",
      "_________________________________________________________________\n",
      "conv2d_17 (Conv2D)           (None, 34, 34, 64)        18496     \n",
      "_________________________________________________________________\n",
      "max_pooling2d_14 (MaxPooling (None, 17, 17, 64)        0         \n",
      "_________________________________________________________________\n",
      "conv2d_18 (Conv2D)           (None, 15, 15, 128)       73856     \n",
      "_________________________________________________________________\n",
      "max_pooling2d_15 (MaxPooling (None, 7, 7, 128)         0         \n",
      "_________________________________________________________________\n",
      "conv2d_19 (Conv2D)           (None, 5, 5, 128)         147584    \n",
      "_________________________________________________________________\n",
      "max_pooling2d_16 (MaxPooling (None, 2, 2, 128)         0         \n",
      "_________________________________________________________________\n",
      "flatten_4 (Flatten)          (None, 512)               0         \n",
      "_________________________________________________________________\n",
      "dense_7 (Dense)              (None, 512)               262656    \n",
      "_________________________________________________________________\n",
      "dense_8 (Dense)              (None, 1)                 513       \n",
      "=================================================================\n",
      "Total params: 504,001\n",
      "Trainable params: 504,001\n",
      "Non-trainable params: 0\n",
      "_________________________________________________________________\n"
     ]
    }
   ],
   "source": [
    "model = Sequential()\n",
    "model.add(Conv2D(32,(3,3),input_shape=(75,75,3),activation='relu'))\n",
    "model.add(MaxPooling2D((2,2)))\n",
    "model.add(Conv2D(64,(3,3),activation='relu'))\n",
    "model.add(MaxPooling2D((2,2)))\n",
    "model.add(Conv2D(128,(3,3),activation='relu'))\n",
    "model.add(MaxPooling2D((2,2)))\n",
    "model.add(Conv2D(128,(3,3),activation='relu'))\n",
    "model.add(MaxPooling2D((2,2)))\n",
    "model.add(Flatten())\n",
    "model.add(Dense(512,activation='relu'))\n",
    "model.add(Dense(1,activation='sigmoid'))\n",
    "model.compile(loss='binary_crossentropy',\n",
    "              optimizer=optimizers.RMSprop(0.00004),\n",
    "              metrics=['accuracy'])\n",
    "model.summary()"
   ]
  },
  {
   "cell_type": "code",
   "execution_count": 49,
   "metadata": {},
   "outputs": [
    {
     "name": "stdout",
     "output_type": "stream",
     "text": [
      "Train on 1600 samples, validate on 400 samples\n",
      "Epoch 1/30\n",
      "1600/1600 [==============================] - 15s 9ms/step - loss: 2.3084 - accuracy: 0.2756 - val_loss: 1.2976 - val_accuracy: 0.2950\n",
      "Epoch 2/30\n",
      "1600/1600 [==============================] - 15s 10ms/step - loss: 0.9947 - accuracy: 0.2756 - val_loss: 0.7268 - val_accuracy: 0.2950\n",
      "Epoch 3/30\n",
      "1600/1600 [==============================] - 16s 10ms/step - loss: 0.6414 - accuracy: 0.6369 - val_loss: 0.6045 - val_accuracy: 0.7050\n",
      "Epoch 4/30\n",
      "1600/1600 [==============================] - 16s 10ms/step - loss: 0.5801 - accuracy: 0.7244 - val_loss: 0.6026 - val_accuracy: 0.7050\n",
      "Epoch 5/30\n",
      "1600/1600 [==============================] - 16s 10ms/step - loss: 0.5773 - accuracy: 0.7244 - val_loss: 0.6026 - val_accuracy: 0.7050\n",
      "Epoch 6/30\n",
      "1600/1600 [==============================] - 16s 10ms/step - loss: 0.5757 - accuracy: 0.7244 - val_loss: 0.6029 - val_accuracy: 0.7050\n",
      "Epoch 7/30\n",
      "1600/1600 [==============================] - 16s 10ms/step - loss: 0.5739 - accuracy: 0.7244 - val_loss: 0.6037 - val_accuracy: 0.7050\n",
      "Epoch 8/30\n",
      "1600/1600 [==============================] - 16s 10ms/step - loss: 0.5715 - accuracy: 0.7244 - val_loss: 0.5999 - val_accuracy: 0.7050\n",
      "Epoch 9/30\n",
      "1600/1600 [==============================] - 16s 10ms/step - loss: 0.5689 - accuracy: 0.7244 - val_loss: 0.6040 - val_accuracy: 0.7050\n",
      "Epoch 10/30\n",
      "1600/1600 [==============================] - 16s 10ms/step - loss: 0.5673 - accuracy: 0.7244 - val_loss: 0.5989 - val_accuracy: 0.7050\n",
      "Epoch 11/30\n",
      "1600/1600 [==============================] - 16s 10ms/step - loss: 0.5636 - accuracy: 0.7244 - val_loss: 0.5981 - val_accuracy: 0.7050\n",
      "Epoch 12/30\n",
      "1600/1600 [==============================] - 16s 10ms/step - loss: 0.5605 - accuracy: 0.7244 - val_loss: 0.5992 - val_accuracy: 0.7050\n",
      "Epoch 13/30\n",
      "1600/1600 [==============================] - 16s 10ms/step - loss: 0.5590 - accuracy: 0.7244 - val_loss: 0.6012 - val_accuracy: 0.7050\n",
      "Epoch 14/30\n",
      "1600/1600 [==============================] - 16s 10ms/step - loss: 0.5530 - accuracy: 0.7244 - val_loss: 0.5993 - val_accuracy: 0.7050\n",
      "Epoch 15/30\n",
      "1600/1600 [==============================] - 16s 10ms/step - loss: 0.5523 - accuracy: 0.7244 - val_loss: 0.5971 - val_accuracy: 0.7050\n",
      "Epoch 16/30\n",
      "1600/1600 [==============================] - 16s 10ms/step - loss: 0.5503 - accuracy: 0.7244 - val_loss: 0.5971 - val_accuracy: 0.7050\n",
      "Epoch 17/30\n",
      "1600/1600 [==============================] - 16s 10ms/step - loss: 0.5455 - accuracy: 0.7237 - val_loss: 0.5972 - val_accuracy: 0.7050\n",
      "Epoch 18/30\n",
      "1600/1600 [==============================] - 16s 10ms/step - loss: 0.5440 - accuracy: 0.7244 - val_loss: 0.5976 - val_accuracy: 0.6975\n",
      "Epoch 19/30\n",
      "1600/1600 [==============================] - 16s 10ms/step - loss: 0.5413 - accuracy: 0.7244 - val_loss: 0.5954 - val_accuracy: 0.7050\n",
      "Epoch 20/30\n",
      "1600/1600 [==============================] - 16s 10ms/step - loss: 0.5400 - accuracy: 0.7256 - val_loss: 0.6007 - val_accuracy: 0.7050\n",
      "Epoch 21/30\n",
      "1600/1600 [==============================] - 16s 10ms/step - loss: 0.5358 - accuracy: 0.7250 - val_loss: 0.5961 - val_accuracy: 0.7050\n",
      "Epoch 22/30\n",
      "1600/1600 [==============================] - 16s 10ms/step - loss: 0.5361 - accuracy: 0.7294 - val_loss: 0.5951 - val_accuracy: 0.6975\n",
      "Epoch 23/30\n",
      "1600/1600 [==============================] - 16s 10ms/step - loss: 0.5338 - accuracy: 0.7300 - val_loss: 0.6021 - val_accuracy: 0.7050\n",
      "Epoch 24/30\n",
      "1600/1600 [==============================] - 17s 10ms/step - loss: 0.5318 - accuracy: 0.7256 - val_loss: 0.6098 - val_accuracy: 0.7050\n",
      "Epoch 25/30\n",
      "1600/1600 [==============================] - 16s 10ms/step - loss: 0.5267 - accuracy: 0.7337 - val_loss: 0.5969 - val_accuracy: 0.6975\n",
      "Epoch 26/30\n",
      "1600/1600 [==============================] - 16s 10ms/step - loss: 0.5232 - accuracy: 0.7319 - val_loss: 0.5937 - val_accuracy: 0.6850\n",
      "Epoch 27/30\n",
      "1600/1600 [==============================] - 16s 10ms/step - loss: 0.5224 - accuracy: 0.7312 - val_loss: 0.5925 - val_accuracy: 0.6850\n",
      "Epoch 28/30\n",
      "1600/1600 [==============================] - 17s 10ms/step - loss: 0.5218 - accuracy: 0.7350 - val_loss: 0.5910 - val_accuracy: 0.6975\n",
      "Epoch 29/30\n",
      "1600/1600 [==============================] - 17s 10ms/step - loss: 0.5171 - accuracy: 0.7381 - val_loss: 0.5982 - val_accuracy: 0.6975\n",
      "Epoch 30/30\n",
      "1600/1600 [==============================] - 16s 10ms/step - loss: 0.5188 - accuracy: 0.7356 - val_loss: 0.5951 - val_accuracy: 0.6975\n"
     ]
    }
   ],
   "source": [
    "history = model.fit(X,y,batch_size=100,epochs=30,validation_data=(val_data,val_label))"
   ]
  },
  {
   "cell_type": "code",
   "execution_count": 55,
   "metadata": {},
   "outputs": [
    {
     "data": {
      "image/png": "[encoded data removed]",
      "text/plain": [
       "<Figure size 432x288 with 1 Axes>"
      ]
     },
     "metadata": {
      "needs_background": "light"
     },
     "output_type": "display_data"
    }
   ],
   "source": [
    "plt.plot(history.history['loss'],label='loss')\n",
    "plt.plot(history.history['val_loss'],label='val_loss')\n",
    "plt.legend()\n",
    "plt.show()"
   ]
  },
  {
   "cell_type": "code",
   "execution_count": 56,
   "metadata": {},
   "outputs": [
    {
     "data": {
      "image/png": "[encoded data removed]",
      "text/plain": [
       "<Figure size 432x288 with 1 Axes>"
      ]
     },
     "metadata": {
      "needs_background": "light"
     },
     "output_type": "display_data"
    }
   ],
   "source": [
    "plt.plot(history.history['accuracy'],label='acc')\n",
    "plt.plot(history.history['val_accuracy'],label='val_acc')\n",
    "plt.legend()\n",
    "plt.show()"
   ]
  },
  {
   "cell_type": "code",
   "execution_count": 57,
   "metadata": {},
   "outputs": [],
   "source": [
    "model.save('CNN_model.h5')"
   ]
  },
  {
   "cell_type": "code",
   "execution_count": null,
   "metadata": {},
   "outputs": [],
   "source": []
  }
 ],
 "metadata": {
  "kernelspec": {
   "display_name": "Python 3",
   "language": "python",
   "name": "python3"
  },
  "language_info": {
   "codemirror_mode": {
    "name": "ipython",
    "version": 3
   },
   "file_extension": ".py",
   "mimetype": "text/x-python",
   "name": "python",
   "nbconvert_exporter": "python",
   "pygments_lexer": "ipython3",
   "version": "3.7.0"
  }
 },
 "nbformat": 4,
 "nbformat_minor": 2
}
